{
 "cells": [
  {
   "cell_type": "markdown",
   "metadata": {
    "collapsed": true
   },
   "source": [
    "# IBM Applied Data Science Capstone // Week 4 Part A\n",
    "### IBM Data Science Specialization\n",
    "#### by Yohann Rousselet"
   ]
  },
  {
   "cell_type": "markdown",
   "metadata": {},
   "source": [
    "This workbook will be used to complete part of the the IBM Applied Data Science Capstone, which is Course 9 of 9 in the IBM Data Science Specialization hosted by Coursera"
   ]
  },
  {
   "cell_type": "markdown",
   "metadata": {},
   "source": [
    "## Table of contents\n",
    "* [Introduction](#introduction)\n",
    "* [References](#references)"
   ]
  },
  {
   "cell_type": "markdown",
   "metadata": {},
   "source": [
    "## Introduction <a name=\"introduction\"></a>"
   ]
  },
  {
   "cell_type": "markdown",
   "metadata": {},
   "source": [
    "![Flag](https://upload.wikimedia.org/wikipedia/commons/thumb/a/a0/Flag_of_Maryland.svg/200px-Flag_of_Maryland.svg.png)"
   ]
  },
  {
   "cell_type": "markdown",
   "metadata": {},
   "source": [
    "Maryland, the 7th State to join the Union in 1788, is the 19th most populous state in the union [[1](#ref1)]. Part of the Mid-Atlantic region, it has common boarders with 4 states, Virginia, West Virginia, Pennsylvania, and Delaware, as well as the District of Columbia [[2](#ref2)]. While its largest and most well-know city is Baltimore, its capital is Annapolis, located on the Chesapeake Bay at the mouth of the Severn River, roughly 25 miles south of Baltimore [[3](#ref3)].\n",
    "\n",
    "After finishing graduate school, I was hired by a Maryland-based company, and moved from Southern California to the Greater Baltimore Area. More that five years after moving to Maryland, I remain unfamiliar with this state. Therefore, I have decided that the focus of this project will be the great State of Maryland. More specifically, while Maryland is the richest State as defined by median household income [[4](#ref4)], I am interested in finding out the demographic and wealth distributions, among other data, at a county level, to better understand whether or not every county fares as well as the state level metrics would indicate.    \n",
    "\n",
    "As mentioned, my approach will be to focus on data at the county level. After pre-processing and exploring the selected datasets, I will use advanced data analytics techniques to gain additional insights into the make-up of the Maryland counties. This project is a great opportunity to demonstrate and further refine my newly acquired Data Science skills while learning something new along the way, and I hope that readers will also be able to deepen their knowledge of the State of Maryland.  "
   ]
  },
  {
   "cell_type": "markdown",
   "metadata": {},
   "source": [
    "## References <a name=\"references\"></a>"
   ]
  },
  {
   "cell_type": "markdown",
   "metadata": {},
   "source": [
    "[1<a name=\"ref1\"></a>] https://en.wikipedia.org/wiki/List_of_states_and_territories_of_the_United_States_by_population\n",
    "\n",
    "[2<a name=\"ref2\"></a>] https://en.wikipedia.org/wiki/Maryland\n",
    "\n",
    "[3<a name=\"ref3\"></a>] https://en.wikipedia.org/wiki/Annapolis,_Maryland\n",
    "\n",
    "[4<a name=\"ref4\"></a>] https://en.wikipedia.org/wiki/List_of_U.S._states_and_territories_by_income"
   ]
  }
 ],
 "metadata": {
  "kernelspec": {
   "display_name": "Python 3.6",
   "language": "python",
   "name": "python3"
  },
  "language_info": {
   "codemirror_mode": {
    "name": "ipython",
    "version": 3
   },
   "file_extension": ".py",
   "mimetype": "text/x-python",
   "name": "python",
   "nbconvert_exporter": "python",
   "pygments_lexer": "ipython3",
   "version": "3.6.9"
  }
 },
 "nbformat": 4,
 "nbformat_minor": 1
}
