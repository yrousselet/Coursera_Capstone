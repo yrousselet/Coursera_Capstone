{
 "cells": [
  {
   "cell_type": "markdown",
   "metadata": {
    "collapsed": true
   },
   "source": [
    "# IBM Applied Data Science Capstone // Week 3\n",
    "### IBM Data Science Specialization\n",
    "#### by Yohann Rousselet"
   ]
  },
  {
   "cell_type": "markdown",
   "metadata": {},
   "source": [
    "This workbook will be used to complete the IBM Applied Data Science Capstone, which is Course 9 of 9 in the IBM Data Science Specialization"
   ]
  },
  {
   "cell_type": "markdown",
   "metadata": {},
   "source": [
    "## Table of contents\n",
    "* [Introduction](#introduction)\n",
    "* [Data](#data)\n",
    "* [Geolocation](#geo)\n",
    "* [Explore Neighborhoods](#explore)\n",
    "* [Cluster Neighborhoods](#cluster)\n",
    "* [Conclusions](#conclusion)"
   ]
  },
  {
   "cell_type": "markdown",
   "metadata": {},
   "source": [
    "## Introduction <a name=\"introduction\"></a>"
   ]
  },
  {
   "cell_type": "markdown",
   "metadata": {},
   "source": [
    "The purpose of this assignment, you will be required to explore and cluster the neighborhoods in Toronto."
   ]
  },
  {
   "cell_type": "markdown",
   "metadata": {},
   "source": [
    "## Data <a name=\"data\"></a>"
   ]
  },
  {
   "cell_type": "markdown",
   "metadata": {},
   "source": [
    "The source data for this notebook will be scraped from **Wikipedia** (https://en.wikipedia.org/wiki/List_of_postal_codes_of_Canada:_M).\n",
    "\n",
    "More specifically, the data will be obtained from the table of postal codes and transformed into a **pandas dataframe**."
   ]
  },
  {
   "cell_type": "markdown",
   "metadata": {},
   "source": [
    "#### Load required libraries"
   ]
  },
  {
   "cell_type": "code",
   "execution_count": 1,
   "metadata": {},
   "outputs": [],
   "source": [
    "import pandas as pd\n",
    "import numpy as np"
   ]
  },
  {
   "cell_type": "markdown",
   "metadata": {},
   "source": [
    "#### Scrape data"
   ]
  },
  {
   "cell_type": "code",
   "execution_count": 2,
   "metadata": {},
   "outputs": [],
   "source": [
    "df = pd.read_html(\"https://en.wikipedia.org/wiki/List_of_postal_codes_of_Canada:_M\")[0]"
   ]
  },
  {
   "cell_type": "markdown",
   "metadata": {},
   "source": [
    "#### Ignore cells with a borough that is 'Not assigned'"
   ]
  },
  {
   "cell_type": "code",
   "execution_count": 3,
   "metadata": {},
   "outputs": [],
   "source": [
    "df.drop(df[df['Borough'] == 'Not assigned'].index, inplace = True)\n",
    "df.reset_index(drop=True, inplace = True)"
   ]
  },
  {
   "cell_type": "markdown",
   "metadata": {},
   "source": [
    "#### Replace ' / ' by ' , ' in Neighborhood column"
   ]
  },
  {
   "cell_type": "code",
   "execution_count": 4,
   "metadata": {},
   "outputs": [],
   "source": [
    "df['Neighborhood'] = df['Neighborhood'].str.replace(' /', ',')"
   ]
  },
  {
   "cell_type": "markdown",
   "metadata": {},
   "source": [
    "#### Replace 'Not assigned' Neighborhood with Borough"
   ]
  },
  {
   "cell_type": "code",
   "execution_count": 5,
   "metadata": {},
   "outputs": [
    {
     "data": {
      "text/html": [
       "<div>\n",
       "<style scoped>\n",
       "    .dataframe tbody tr th:only-of-type {\n",
       "        vertical-align: middle;\n",
       "    }\n",
       "\n",
       "    .dataframe tbody tr th {\n",
       "        vertical-align: top;\n",
       "    }\n",
       "\n",
       "    .dataframe thead th {\n",
       "        text-align: right;\n",
       "    }\n",
       "</style>\n",
       "<table border=\"1\" class=\"dataframe\">\n",
       "  <thead>\n",
       "    <tr style=\"text-align: right;\">\n",
       "      <th></th>\n",
       "      <th>Postal Code</th>\n",
       "      <th>Borough</th>\n",
       "      <th>Neighborhood</th>\n",
       "    </tr>\n",
       "  </thead>\n",
       "  <tbody>\n",
       "    <tr>\n",
       "      <th>0</th>\n",
       "      <td>M3A</td>\n",
       "      <td>North York</td>\n",
       "      <td>Parkwoods</td>\n",
       "    </tr>\n",
       "    <tr>\n",
       "      <th>1</th>\n",
       "      <td>M4A</td>\n",
       "      <td>North York</td>\n",
       "      <td>Victoria Village</td>\n",
       "    </tr>\n",
       "    <tr>\n",
       "      <th>2</th>\n",
       "      <td>M5A</td>\n",
       "      <td>Downtown Toronto</td>\n",
       "      <td>Regent Park, Harbourfront</td>\n",
       "    </tr>\n",
       "    <tr>\n",
       "      <th>3</th>\n",
       "      <td>M6A</td>\n",
       "      <td>North York</td>\n",
       "      <td>Lawrence Manor, Lawrence Heights</td>\n",
       "    </tr>\n",
       "    <tr>\n",
       "      <th>4</th>\n",
       "      <td>M7A</td>\n",
       "      <td>Downtown Toronto</td>\n",
       "      <td>Queen's Park, Ontario Provincial Government</td>\n",
       "    </tr>\n",
       "  </tbody>\n",
       "</table>\n",
       "</div>"
      ],
      "text/plain": [
       "  Postal Code           Borough                                 Neighborhood\n",
       "0         M3A        North York                                    Parkwoods\n",
       "1         M4A        North York                             Victoria Village\n",
       "2         M5A  Downtown Toronto                    Regent Park, Harbourfront\n",
       "3         M6A        North York             Lawrence Manor, Lawrence Heights\n",
       "4         M7A  Downtown Toronto  Queen's Park, Ontario Provincial Government"
      ]
     },
     "execution_count": 5,
     "metadata": {},
     "output_type": "execute_result"
    }
   ],
   "source": [
    "df.loc[(df.Neighborhood == 'Not asigned'),'Neighborhood']= df['Borough']\n",
    "df.rename(columns={\"Postal code\": \"Postal Code\"}, inplace = True)\n",
    "df.head()"
   ]
  },
  {
   "cell_type": "markdown",
   "metadata": {},
   "source": [
    "#### Display number of rows of Dataframe "
   ]
  },
  {
   "cell_type": "code",
   "execution_count": 6,
   "metadata": {},
   "outputs": [
    {
     "name": "stdout",
     "output_type": "stream",
     "text": [
      "Numbers of rows = 103\n"
     ]
    }
   ],
   "source": [
    "print(\"Numbers of rows =\",df.shape[0])"
   ]
  },
  {
   "cell_type": "markdown",
   "metadata": {},
   "source": [
    "## Geolocation <a name=\"geo\"></a>"
   ]
  },
  {
   "cell_type": "markdown",
   "metadata": {},
   "source": [
    "Now that a dataframe of the postal code of each neighborhood along with the borough name and neighborhood name is was created, we need to get the **latitude** and the **longitude** coordinates of each neighborhood to be able to utilize the **Foursquare location data**. "
   ]
  },
  {
   "cell_type": "markdown",
   "metadata": {},
   "source": [
    "#### Loop through Dataframe and get coordinates (not used; see below)"
   ]
  },
  {
   "cell_type": "code",
   "execution_count": null,
   "metadata": {},
   "outputs": [],
   "source": [
    " !pip -q install geocoder\n",
    "\n",
    "import geocoder # import geocoder\n",
    "\n",
    "#Create function to find coordinates for given postal code\n",
    "def geoloc(PostCD):\n",
    "\n",
    "    # initialize your variable to None\n",
    "    lat_lng_coords = None\n",
    "    \n",
    "    # loop until you get the coordinates\n",
    "    while(lat_lng_coords is None):\n",
    "      g = geocoder.arcgis('{}, Toronto, Ontario'.format(PostCD))\n",
    "      lat_lng_coords = g.latlng\n",
    "\n",
    "    latitude = lat_lng_coords[0]\n",
    "    longitude = lat_lng_coords[1]\n",
    "    \n",
    "    return latitude, longitude                      \n",
    "\n",
    "#loop through all postal codes to find coordinates and populate dataframe\n",
    "df['Latitude'], df['Longitude'] = zip(*df['Postal code'].apply(geoloc))"
   ]
  },
  {
   "cell_type": "markdown",
   "metadata": {},
   "source": [
    "#### Using csv file to get Postal Code coordinates (saves compute time!)"
   ]
  },
  {
   "cell_type": "code",
   "execution_count": 7,
   "metadata": {},
   "outputs": [],
   "source": [
    "#Define url\n",
    "url='http://cocl.us/Geospatial_data'\n",
    "\n",
    "#Load CSV\n",
    "pcode_df = pd.read_csv(url)\n",
    "pcode_df.head()\n",
    "\n",
    "#Merge Dataframes\n",
    "df_with_pcode = pd.merge(df, pcode_df, how='inner', on='Postal Code', sort=False)"
   ]
  },
  {
   "cell_type": "markdown",
   "metadata": {},
   "source": [
    "#### Display first 5 rows of Dataframe with longitude and latitude data"
   ]
  },
  {
   "cell_type": "code",
   "execution_count": 8,
   "metadata": {},
   "outputs": [
    {
     "data": {
      "text/html": [
       "<div>\n",
       "<style scoped>\n",
       "    .dataframe tbody tr th:only-of-type {\n",
       "        vertical-align: middle;\n",
       "    }\n",
       "\n",
       "    .dataframe tbody tr th {\n",
       "        vertical-align: top;\n",
       "    }\n",
       "\n",
       "    .dataframe thead th {\n",
       "        text-align: right;\n",
       "    }\n",
       "</style>\n",
       "<table border=\"1\" class=\"dataframe\">\n",
       "  <thead>\n",
       "    <tr style=\"text-align: right;\">\n",
       "      <th></th>\n",
       "      <th>Postal Code</th>\n",
       "      <th>Borough</th>\n",
       "      <th>Neighborhood</th>\n",
       "      <th>Latitude</th>\n",
       "      <th>Longitude</th>\n",
       "    </tr>\n",
       "  </thead>\n",
       "  <tbody>\n",
       "    <tr>\n",
       "      <th>0</th>\n",
       "      <td>M3A</td>\n",
       "      <td>North York</td>\n",
       "      <td>Parkwoods</td>\n",
       "      <td>43.753259</td>\n",
       "      <td>-79.329656</td>\n",
       "    </tr>\n",
       "    <tr>\n",
       "      <th>1</th>\n",
       "      <td>M4A</td>\n",
       "      <td>North York</td>\n",
       "      <td>Victoria Village</td>\n",
       "      <td>43.725882</td>\n",
       "      <td>-79.315572</td>\n",
       "    </tr>\n",
       "    <tr>\n",
       "      <th>2</th>\n",
       "      <td>M5A</td>\n",
       "      <td>Downtown Toronto</td>\n",
       "      <td>Regent Park, Harbourfront</td>\n",
       "      <td>43.654260</td>\n",
       "      <td>-79.360636</td>\n",
       "    </tr>\n",
       "    <tr>\n",
       "      <th>3</th>\n",
       "      <td>M6A</td>\n",
       "      <td>North York</td>\n",
       "      <td>Lawrence Manor, Lawrence Heights</td>\n",
       "      <td>43.718518</td>\n",
       "      <td>-79.464763</td>\n",
       "    </tr>\n",
       "    <tr>\n",
       "      <th>4</th>\n",
       "      <td>M7A</td>\n",
       "      <td>Downtown Toronto</td>\n",
       "      <td>Queen's Park, Ontario Provincial Government</td>\n",
       "      <td>43.662301</td>\n",
       "      <td>-79.389494</td>\n",
       "    </tr>\n",
       "  </tbody>\n",
       "</table>\n",
       "</div>"
      ],
      "text/plain": [
       "  Postal Code           Borough                                 Neighborhood  \\\n",
       "0         M3A        North York                                    Parkwoods   \n",
       "1         M4A        North York                             Victoria Village   \n",
       "2         M5A  Downtown Toronto                    Regent Park, Harbourfront   \n",
       "3         M6A        North York             Lawrence Manor, Lawrence Heights   \n",
       "4         M7A  Downtown Toronto  Queen's Park, Ontario Provincial Government   \n",
       "\n",
       "    Latitude  Longitude  \n",
       "0  43.753259 -79.329656  \n",
       "1  43.725882 -79.315572  \n",
       "2  43.654260 -79.360636  \n",
       "3  43.718518 -79.464763  \n",
       "4  43.662301 -79.389494  "
      ]
     },
     "execution_count": 8,
     "metadata": {},
     "output_type": "execute_result"
    }
   ],
   "source": [
    "df_with_pcode.head()"
   ]
  },
  {
   "cell_type": "markdown",
   "metadata": {},
   "source": [
    "#### Display number of rows of Dataframe with longitude and latitude data "
   ]
  },
  {
   "cell_type": "code",
   "execution_count": 9,
   "metadata": {},
   "outputs": [
    {
     "name": "stdout",
     "output_type": "stream",
     "text": [
      "Numbers of rows = 103\n"
     ]
    }
   ],
   "source": [
    "print(\"Numbers of rows =\",df_with_pcode.shape[0])"
   ]
  },
  {
   "cell_type": "markdown",
   "metadata": {},
   "source": [
    "## Explore Neighborhoods <a name=\"explore\"></a>"
   ]
  },
  {
   "cell_type": "markdown",
   "metadata": {},
   "source": [
    "Using Foursquare API, **similar venues** in a given neighborhood will be explored. The Folium library will be used to visualize the neighborhoods in Toronto, and the **top 10 venue types** per neighborohood will be computed into a new Dataframe. This Dataframe will serve as the basis for **clustering** the neighborhoods."
   ]
  },
  {
   "cell_type": "markdown",
   "metadata": {},
   "source": [
    "#### Number of Boroughs in Toronto dataframe"
   ]
  },
  {
   "cell_type": "code",
   "execution_count": 10,
   "metadata": {},
   "outputs": [
    {
     "name": "stdout",
     "output_type": "stream",
     "text": [
      "The Toronto dataframe has 10 boroughs.\n"
     ]
    }
   ],
   "source": [
    "print('The Toronto dataframe has {} boroughs.'.format(len(df_with_pcode['Borough'].unique())))"
   ]
  },
  {
   "cell_type": "markdown",
   "metadata": {},
   "source": [
    "#### Use geopy library to get the latitude and longitude values of Toronto"
   ]
  },
  {
   "cell_type": "code",
   "execution_count": 11,
   "metadata": {},
   "outputs": [
    {
     "name": "stdout",
     "output_type": "stream",
     "text": [
      "The geograpical coordinate of Toronto are 43.6534817, -79.3839347.\n"
     ]
    }
   ],
   "source": [
    "#Import necessary library\n",
    "from geopy.geocoders import Nominatim\n",
    "\n",
    "#Find coordinates for Toronto\n",
    "address = 'Toronto, Ontario'\n",
    "\n",
    "geolocator = Nominatim(user_agent=\"Toronto_Test\")\n",
    "location = geolocator.geocode(address)\n",
    "TOR_lat = location.latitude\n",
    "TOR_long = location.longitude\n",
    "print('The geograpical coordinate of Toronto are {}, {}.'.format(TOR_lat, TOR_long))"
   ]
  },
  {
   "cell_type": "markdown",
   "metadata": {},
   "source": [
    "#### Create a map of Toronto with neighborhoods superimposed on top"
   ]
  },
  {
   "cell_type": "code",
   "execution_count": 12,
   "metadata": {},
   "outputs": [
    {
     "data": {
      "text/html": [
       "<div style=\"width:100%;\"><div style=\"position:relative;width:100%;height:0;padding-bottom:60%;\"><iframe src=\"about:blank\" style=\"position:absolute;width:100%;height:100%;left:0;top:0;border:none !important;\" data-html=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 onload=\"this.contentDocument.open();this.contentDocument.write(atob(this.getAttribute('data-html')));this.contentDocument.close();\" allowfullscreen webkitallowfullscreen mozallowfullscreen></iframe></div></div>"
      ],
      "text/plain": [
       "<folium.folium.Map at 0x7f0ad2895ac8>"
      ]
     },
     "execution_count": 12,
     "metadata": {},
     "output_type": "execute_result"
    }
   ],
   "source": [
    "#Import necessary library\n",
    "!pip -q install folium\n",
    "import folium\n",
    "\n",
    "#Create map of Toronto using latitude and longitude values\n",
    "map_toronto = folium.Map(width=750,height=500, location=[TOR_lat, TOR_long], zoom_start=10)\n",
    "\n",
    "#Add markers to map\n",
    "for lat, lng, borough, neighborhood in zip(df_with_pcode['Latitude'], df_with_pcode['Longitude'], df_with_pcode['Borough'], df_with_pcode['Neighborhood']):\n",
    "    label = 'Neighborhood(s): {}, Borough: {}'.format(neighborhood, borough)\n",
    "    label = folium.Popup(label, parse_html=True)\n",
    "    folium.Marker(\n",
    "        [lat, lng],\n",
    "        #radius=5,\n",
    "        popup=label,\n",
    "        icon=folium.Icon(color='blue'),\n",
    "        parse_html=False).add_to(map_toronto)  \n",
    "    \n",
    "map_toronto"
   ]
  },
  {
   "cell_type": "markdown",
   "metadata": {},
   "source": [
    "#### Load Foursquare credentials"
   ]
  },
  {
   "cell_type": "code",
   "execution_count": 13,
   "metadata": {},
   "outputs": [],
   "source": [
    "# @hidden_cell \n",
    "CLIENT_ID = 'EXECGQ3CD5X1YYKTS0DUCYX3VTYIGBICIZPL1AIJJBWX3WW4' #Foursquare ID\n",
    "CLIENT_SECRET = '4ARY0Q2DHUJAXKYC5K15WC3FRBLKDD4NM0VZE3RDDVKAPY1W' #Foursquare Secret\n",
    "VERSION = '20180605' #Foursquare API version"
   ]
  },
  {
   "cell_type": "markdown",
   "metadata": {},
   "source": [
    "#### Function to get venues to all the neighborhoods in Manhattan\n",
    "*Radius limted to 500m given the density of neighborhoods, but high number of venues selected (150) to gain as much insight as possible*"
   ]
  },
  {
   "cell_type": "code",
   "execution_count": 14,
   "metadata": {},
   "outputs": [],
   "source": [
    "import json # library to handle JSON files\n",
    "import requests # library to handle requests\n",
    "from pandas.io.json import json_normalize # tranform JSON file into a pandas dataframe\n",
    "\n",
    "def getNearbyVenues(names, latitudes, longitudes):\n",
    "\n",
    "    radius=500\n",
    "    limit=150\n",
    "        \n",
    "    venues_list=[]\n",
    "    for name, lat, lng in zip(names, latitudes, longitudes):\n",
    "                    \n",
    "        # create the API request URL\n",
    "        url = 'https://api.foursquare.com/v2/venues/explore?&client_id={}&client_secret={}&v={}&ll={},{}&radius={}&limit={}'.format(\n",
    "            CLIENT_ID, \n",
    "            CLIENT_SECRET, \n",
    "            VERSION, \n",
    "            lat, \n",
    "            lng, \n",
    "            radius, \n",
    "            limit)\n",
    "            \n",
    "        # make the GET request\n",
    "        results = requests.get(url).json()[\"response\"]['groups'][0]['items']\n",
    "        \n",
    "        # return only relevant information for each nearby venue\n",
    "        venues_list.append([(\n",
    "            name, \n",
    "            lat, \n",
    "            lng, \n",
    "            v['venue']['name'], \n",
    "            v['venue']['location']['lat'], \n",
    "            v['venue']['location']['lng'],  \n",
    "            v['venue']['categories'][0]['name']) for v in results])\n",
    "\n",
    "    nearby_venues = pd.DataFrame([item for venue_list in venues_list for item in venue_list])\n",
    "    nearby_venues.columns = ['Neighborhood', \n",
    "                  'Neighborhood Latitude', \n",
    "                  'Neighborhood Longitude', \n",
    "                  'Venue', \n",
    "                  'Venue Latitude', \n",
    "                  'Venue Longitude', \n",
    "                  'Venue Category']\n",
    "    \n",
    "    return(nearby_venues)"
   ]
  },
  {
   "cell_type": "markdown",
   "metadata": {},
   "source": [
    "#### Create Dataframe of venues in Toronto"
   ]
  },
  {
   "cell_type": "code",
   "execution_count": 15,
   "metadata": {},
   "outputs": [],
   "source": [
    "Tor_venues = getNearbyVenues(names = df_with_pcode['Neighborhood'], latitudes = df_with_pcode['Latitude'], longitudes=df_with_pcode['Longitude'])"
   ]
  },
  {
   "cell_type": "markdown",
   "metadata": {},
   "source": [
    "#### Explore Dataframe"
   ]
  },
  {
   "cell_type": "markdown",
   "metadata": {},
   "source": [
    "Group venues by neighborhood (showing first 10 rows only)"
   ]
  },
  {
   "cell_type": "code",
   "execution_count": 16,
   "metadata": {},
   "outputs": [
    {
     "data": {
      "text/html": [
       "<div>\n",
       "<style scoped>\n",
       "    .dataframe tbody tr th:only-of-type {\n",
       "        vertical-align: middle;\n",
       "    }\n",
       "\n",
       "    .dataframe tbody tr th {\n",
       "        vertical-align: top;\n",
       "    }\n",
       "\n",
       "    .dataframe thead th {\n",
       "        text-align: right;\n",
       "    }\n",
       "</style>\n",
       "<table border=\"1\" class=\"dataframe\">\n",
       "  <thead>\n",
       "    <tr style=\"text-align: right;\">\n",
       "      <th></th>\n",
       "      <th>Neighborhood Latitude</th>\n",
       "      <th>Neighborhood Longitude</th>\n",
       "      <th>Venue</th>\n",
       "      <th>Venue Latitude</th>\n",
       "      <th>Venue Longitude</th>\n",
       "      <th>Venue Category</th>\n",
       "    </tr>\n",
       "    <tr>\n",
       "      <th>Neighborhood</th>\n",
       "      <th></th>\n",
       "      <th></th>\n",
       "      <th></th>\n",
       "      <th></th>\n",
       "      <th></th>\n",
       "      <th></th>\n",
       "    </tr>\n",
       "  </thead>\n",
       "  <tbody>\n",
       "    <tr>\n",
       "      <th>Agincourt</th>\n",
       "      <td>4</td>\n",
       "      <td>4</td>\n",
       "      <td>4</td>\n",
       "      <td>4</td>\n",
       "      <td>4</td>\n",
       "      <td>4</td>\n",
       "    </tr>\n",
       "    <tr>\n",
       "      <th>Alderwood, Long Branch</th>\n",
       "      <td>10</td>\n",
       "      <td>10</td>\n",
       "      <td>10</td>\n",
       "      <td>10</td>\n",
       "      <td>10</td>\n",
       "      <td>10</td>\n",
       "    </tr>\n",
       "    <tr>\n",
       "      <th>Bathurst Manor, Wilson Heights, Downsview North</th>\n",
       "      <td>19</td>\n",
       "      <td>19</td>\n",
       "      <td>19</td>\n",
       "      <td>19</td>\n",
       "      <td>19</td>\n",
       "      <td>19</td>\n",
       "    </tr>\n",
       "    <tr>\n",
       "      <th>Bayview Village</th>\n",
       "      <td>4</td>\n",
       "      <td>4</td>\n",
       "      <td>4</td>\n",
       "      <td>4</td>\n",
       "      <td>4</td>\n",
       "      <td>4</td>\n",
       "    </tr>\n",
       "    <tr>\n",
       "      <th>Bedford Park, Lawrence Manor East</th>\n",
       "      <td>25</td>\n",
       "      <td>25</td>\n",
       "      <td>25</td>\n",
       "      <td>25</td>\n",
       "      <td>25</td>\n",
       "      <td>25</td>\n",
       "    </tr>\n",
       "    <tr>\n",
       "      <th>Berczy Park</th>\n",
       "      <td>55</td>\n",
       "      <td>55</td>\n",
       "      <td>55</td>\n",
       "      <td>55</td>\n",
       "      <td>55</td>\n",
       "      <td>55</td>\n",
       "    </tr>\n",
       "    <tr>\n",
       "      <th>Birch Cliff, Cliffside West</th>\n",
       "      <td>4</td>\n",
       "      <td>4</td>\n",
       "      <td>4</td>\n",
       "      <td>4</td>\n",
       "      <td>4</td>\n",
       "      <td>4</td>\n",
       "    </tr>\n",
       "    <tr>\n",
       "      <th>Brockton, Parkdale Village, Exhibition Place</th>\n",
       "      <td>22</td>\n",
       "      <td>22</td>\n",
       "      <td>22</td>\n",
       "      <td>22</td>\n",
       "      <td>22</td>\n",
       "      <td>22</td>\n",
       "    </tr>\n",
       "    <tr>\n",
       "      <th>Business reply mail Processing CentrE</th>\n",
       "      <td>16</td>\n",
       "      <td>16</td>\n",
       "      <td>16</td>\n",
       "      <td>16</td>\n",
       "      <td>16</td>\n",
       "      <td>16</td>\n",
       "    </tr>\n",
       "    <tr>\n",
       "      <th>CN Tower, King and Spadina, Railway Lands, Harbourfront West, Bathurst  Quay, South Niagara, Island airport</th>\n",
       "      <td>16</td>\n",
       "      <td>16</td>\n",
       "      <td>16</td>\n",
       "      <td>16</td>\n",
       "      <td>16</td>\n",
       "      <td>16</td>\n",
       "    </tr>\n",
       "  </tbody>\n",
       "</table>\n",
       "</div>"
      ],
      "text/plain": [
       "                                                    Neighborhood Latitude  \\\n",
       "Neighborhood                                                                \n",
       "Agincourt                                                               4   \n",
       "Alderwood, Long Branch                                                 10   \n",
       "Bathurst Manor, Wilson Heights, Downsview North                        19   \n",
       "Bayview Village                                                         4   \n",
       "Bedford Park, Lawrence Manor East                                      25   \n",
       "Berczy Park                                                            55   \n",
       "Birch Cliff, Cliffside West                                             4   \n",
       "Brockton, Parkdale Village, Exhibition Place                           22   \n",
       "Business reply mail Processing CentrE                                  16   \n",
       "CN Tower, King and Spadina, Railway Lands, Harb...                     16   \n",
       "\n",
       "                                                    Neighborhood Longitude  \\\n",
       "Neighborhood                                                                 \n",
       "Agincourt                                                                4   \n",
       "Alderwood, Long Branch                                                  10   \n",
       "Bathurst Manor, Wilson Heights, Downsview North                         19   \n",
       "Bayview Village                                                          4   \n",
       "Bedford Park, Lawrence Manor East                                       25   \n",
       "Berczy Park                                                             55   \n",
       "Birch Cliff, Cliffside West                                              4   \n",
       "Brockton, Parkdale Village, Exhibition Place                            22   \n",
       "Business reply mail Processing CentrE                                   16   \n",
       "CN Tower, King and Spadina, Railway Lands, Harb...                      16   \n",
       "\n",
       "                                                    Venue  Venue Latitude  \\\n",
       "Neighborhood                                                                \n",
       "Agincourt                                               4               4   \n",
       "Alderwood, Long Branch                                 10              10   \n",
       "Bathurst Manor, Wilson Heights, Downsview North        19              19   \n",
       "Bayview Village                                         4               4   \n",
       "Bedford Park, Lawrence Manor East                      25              25   \n",
       "Berczy Park                                            55              55   \n",
       "Birch Cliff, Cliffside West                             4               4   \n",
       "Brockton, Parkdale Village, Exhibition Place           22              22   \n",
       "Business reply mail Processing CentrE                  16              16   \n",
       "CN Tower, King and Spadina, Railway Lands, Harb...     16              16   \n",
       "\n",
       "                                                    Venue Longitude  \\\n",
       "Neighborhood                                                          \n",
       "Agincourt                                                         4   \n",
       "Alderwood, Long Branch                                           10   \n",
       "Bathurst Manor, Wilson Heights, Downsview North                  19   \n",
       "Bayview Village                                                   4   \n",
       "Bedford Park, Lawrence Manor East                                25   \n",
       "Berczy Park                                                      55   \n",
       "Birch Cliff, Cliffside West                                       4   \n",
       "Brockton, Parkdale Village, Exhibition Place                     22   \n",
       "Business reply mail Processing CentrE                            16   \n",
       "CN Tower, King and Spadina, Railway Lands, Harb...               16   \n",
       "\n",
       "                                                    Venue Category  \n",
       "Neighborhood                                                        \n",
       "Agincourt                                                        4  \n",
       "Alderwood, Long Branch                                          10  \n",
       "Bathurst Manor, Wilson Heights, Downsview North                 19  \n",
       "Bayview Village                                                  4  \n",
       "Bedford Park, Lawrence Manor East                               25  \n",
       "Berczy Park                                                     55  \n",
       "Birch Cliff, Cliffside West                                      4  \n",
       "Brockton, Parkdale Village, Exhibition Place                    22  \n",
       "Business reply mail Processing CentrE                           16  \n",
       "CN Tower, King and Spadina, Railway Lands, Harb...              16  "
      ]
     },
     "execution_count": 16,
     "metadata": {},
     "output_type": "execute_result"
    }
   ],
   "source": [
    "Tor_venues.groupby('Neighborhood').count().head(10)"
   ]
  },
  {
   "cell_type": "markdown",
   "metadata": {},
   "source": [
    "Identify the number of unique venue types"
   ]
  },
  {
   "cell_type": "code",
   "execution_count": 17,
   "metadata": {},
   "outputs": [
    {
     "name": "stdout",
     "output_type": "stream",
     "text": [
      "There are 268 uniques categories.\n"
     ]
    }
   ],
   "source": [
    "print('There are {} uniques categories.'.format(len(Tor_venues['Venue Category'].unique())))"
   ]
  },
  {
   "cell_type": "markdown",
   "metadata": {},
   "source": [
    "**That is way too many venue types!!!** Let's reduce dataframe size by selecting the top 5 most common venues per neighborhood"
   ]
  },
  {
   "cell_type": "markdown",
   "metadata": {},
   "source": [
    "Use **One Hot Encoding** to simplify data exploration"
   ]
  },
  {
   "cell_type": "code",
   "execution_count": 38,
   "metadata": {},
   "outputs": [],
   "source": [
    "#One hot encoding\n",
    "Tor_onehot = pd.get_dummies(Tor_venues[['Venue Category']], prefix=\"\", prefix_sep=\"\")\n",
    "\n",
    "#Add neighborhood column back to dataframe\n",
    "Tor_onehot['Neighborhood'] = Tor_venues['Neighborhood'] \n",
    "\n",
    "#Move neighborhood column to the first column\n",
    "new_neigh = Tor_onehot['Neighborhood']\n",
    "Tor_onehot.drop(labels=['Neighborhood'], axis=1,inplace = True)\n",
    "Tor_onehot.insert(0, 'Neighborhood', new_neigh)"
   ]
  },
  {
   "cell_type": "markdown",
   "metadata": {},
   "source": [
    "To help identify the most common venue types for each neighborhood, first group rows by neighborhood and take the mean of the frequency of occurrence of each category (i.e. venue type)"
   ]
  },
  {
   "cell_type": "code",
   "execution_count": 39,
   "metadata": {},
   "outputs": [
    {
     "data": {
      "text/html": [
       "<div>\n",
       "<style scoped>\n",
       "    .dataframe tbody tr th:only-of-type {\n",
       "        vertical-align: middle;\n",
       "    }\n",
       "\n",
       "    .dataframe tbody tr th {\n",
       "        vertical-align: top;\n",
       "    }\n",
       "\n",
       "    .dataframe thead th {\n",
       "        text-align: right;\n",
       "    }\n",
       "</style>\n",
       "<table border=\"1\" class=\"dataframe\">\n",
       "  <thead>\n",
       "    <tr style=\"text-align: right;\">\n",
       "      <th></th>\n",
       "      <th>Neighborhood</th>\n",
       "      <th>Accessories Store</th>\n",
       "      <th>Afghan Restaurant</th>\n",
       "      <th>Airport</th>\n",
       "      <th>Airport Food Court</th>\n",
       "      <th>Airport Gate</th>\n",
       "      <th>Airport Lounge</th>\n",
       "      <th>Airport Service</th>\n",
       "      <th>Airport Terminal</th>\n",
       "      <th>American Restaurant</th>\n",
       "      <th>...</th>\n",
       "      <th>Turkish Restaurant</th>\n",
       "      <th>Vegetarian / Vegan Restaurant</th>\n",
       "      <th>Video Game Store</th>\n",
       "      <th>Video Store</th>\n",
       "      <th>Vietnamese Restaurant</th>\n",
       "      <th>Warehouse Store</th>\n",
       "      <th>Wine Bar</th>\n",
       "      <th>Wings Joint</th>\n",
       "      <th>Women's Store</th>\n",
       "      <th>Yoga Studio</th>\n",
       "    </tr>\n",
       "  </thead>\n",
       "  <tbody>\n",
       "    <tr>\n",
       "      <th>0</th>\n",
       "      <td>Agincourt</td>\n",
       "      <td>0.0</td>\n",
       "      <td>0.0</td>\n",
       "      <td>0.0</td>\n",
       "      <td>0.0</td>\n",
       "      <td>0.0</td>\n",
       "      <td>0.0</td>\n",
       "      <td>0.0</td>\n",
       "      <td>0.0</td>\n",
       "      <td>0.00</td>\n",
       "      <td>...</td>\n",
       "      <td>0.0</td>\n",
       "      <td>0.0</td>\n",
       "      <td>0.0</td>\n",
       "      <td>0.0</td>\n",
       "      <td>0.0</td>\n",
       "      <td>0.0</td>\n",
       "      <td>0.0</td>\n",
       "      <td>0.0</td>\n",
       "      <td>0.0</td>\n",
       "      <td>0.0</td>\n",
       "    </tr>\n",
       "    <tr>\n",
       "      <th>1</th>\n",
       "      <td>Alderwood, Long Branch</td>\n",
       "      <td>0.0</td>\n",
       "      <td>0.0</td>\n",
       "      <td>0.0</td>\n",
       "      <td>0.0</td>\n",
       "      <td>0.0</td>\n",
       "      <td>0.0</td>\n",
       "      <td>0.0</td>\n",
       "      <td>0.0</td>\n",
       "      <td>0.00</td>\n",
       "      <td>...</td>\n",
       "      <td>0.0</td>\n",
       "      <td>0.0</td>\n",
       "      <td>0.0</td>\n",
       "      <td>0.0</td>\n",
       "      <td>0.0</td>\n",
       "      <td>0.0</td>\n",
       "      <td>0.0</td>\n",
       "      <td>0.0</td>\n",
       "      <td>0.0</td>\n",
       "      <td>0.0</td>\n",
       "    </tr>\n",
       "    <tr>\n",
       "      <th>2</th>\n",
       "      <td>Bathurst Manor, Wilson Heights, Downsview North</td>\n",
       "      <td>0.0</td>\n",
       "      <td>0.0</td>\n",
       "      <td>0.0</td>\n",
       "      <td>0.0</td>\n",
       "      <td>0.0</td>\n",
       "      <td>0.0</td>\n",
       "      <td>0.0</td>\n",
       "      <td>0.0</td>\n",
       "      <td>0.00</td>\n",
       "      <td>...</td>\n",
       "      <td>0.0</td>\n",
       "      <td>0.0</td>\n",
       "      <td>0.0</td>\n",
       "      <td>0.0</td>\n",
       "      <td>0.0</td>\n",
       "      <td>0.0</td>\n",
       "      <td>0.0</td>\n",
       "      <td>0.0</td>\n",
       "      <td>0.0</td>\n",
       "      <td>0.0</td>\n",
       "    </tr>\n",
       "    <tr>\n",
       "      <th>3</th>\n",
       "      <td>Bayview Village</td>\n",
       "      <td>0.0</td>\n",
       "      <td>0.0</td>\n",
       "      <td>0.0</td>\n",
       "      <td>0.0</td>\n",
       "      <td>0.0</td>\n",
       "      <td>0.0</td>\n",
       "      <td>0.0</td>\n",
       "      <td>0.0</td>\n",
       "      <td>0.00</td>\n",
       "      <td>...</td>\n",
       "      <td>0.0</td>\n",
       "      <td>0.0</td>\n",
       "      <td>0.0</td>\n",
       "      <td>0.0</td>\n",
       "      <td>0.0</td>\n",
       "      <td>0.0</td>\n",
       "      <td>0.0</td>\n",
       "      <td>0.0</td>\n",
       "      <td>0.0</td>\n",
       "      <td>0.0</td>\n",
       "    </tr>\n",
       "    <tr>\n",
       "      <th>4</th>\n",
       "      <td>Bedford Park, Lawrence Manor East</td>\n",
       "      <td>0.0</td>\n",
       "      <td>0.0</td>\n",
       "      <td>0.0</td>\n",
       "      <td>0.0</td>\n",
       "      <td>0.0</td>\n",
       "      <td>0.0</td>\n",
       "      <td>0.0</td>\n",
       "      <td>0.0</td>\n",
       "      <td>0.04</td>\n",
       "      <td>...</td>\n",
       "      <td>0.0</td>\n",
       "      <td>0.0</td>\n",
       "      <td>0.0</td>\n",
       "      <td>0.0</td>\n",
       "      <td>0.0</td>\n",
       "      <td>0.0</td>\n",
       "      <td>0.0</td>\n",
       "      <td>0.0</td>\n",
       "      <td>0.0</td>\n",
       "      <td>0.0</td>\n",
       "    </tr>\n",
       "  </tbody>\n",
       "</table>\n",
       "<p>5 rows × 268 columns</p>\n",
       "</div>"
      ],
      "text/plain": [
       "                                      Neighborhood  Accessories Store  \\\n",
       "0                                        Agincourt                0.0   \n",
       "1                           Alderwood, Long Branch                0.0   \n",
       "2  Bathurst Manor, Wilson Heights, Downsview North                0.0   \n",
       "3                                  Bayview Village                0.0   \n",
       "4                Bedford Park, Lawrence Manor East                0.0   \n",
       "\n",
       "   Afghan Restaurant  Airport  Airport Food Court  Airport Gate  \\\n",
       "0                0.0      0.0                 0.0           0.0   \n",
       "1                0.0      0.0                 0.0           0.0   \n",
       "2                0.0      0.0                 0.0           0.0   \n",
       "3                0.0      0.0                 0.0           0.0   \n",
       "4                0.0      0.0                 0.0           0.0   \n",
       "\n",
       "   Airport Lounge  Airport Service  Airport Terminal  American Restaurant  \\\n",
       "0             0.0              0.0               0.0                 0.00   \n",
       "1             0.0              0.0               0.0                 0.00   \n",
       "2             0.0              0.0               0.0                 0.00   \n",
       "3             0.0              0.0               0.0                 0.00   \n",
       "4             0.0              0.0               0.0                 0.04   \n",
       "\n",
       "   ...  Turkish Restaurant  Vegetarian / Vegan Restaurant  Video Game Store  \\\n",
       "0  ...                 0.0                            0.0               0.0   \n",
       "1  ...                 0.0                            0.0               0.0   \n",
       "2  ...                 0.0                            0.0               0.0   \n",
       "3  ...                 0.0                            0.0               0.0   \n",
       "4  ...                 0.0                            0.0               0.0   \n",
       "\n",
       "   Video Store  Vietnamese Restaurant  Warehouse Store  Wine Bar  Wings Joint  \\\n",
       "0          0.0                    0.0              0.0       0.0          0.0   \n",
       "1          0.0                    0.0              0.0       0.0          0.0   \n",
       "2          0.0                    0.0              0.0       0.0          0.0   \n",
       "3          0.0                    0.0              0.0       0.0          0.0   \n",
       "4          0.0                    0.0              0.0       0.0          0.0   \n",
       "\n",
       "   Women's Store  Yoga Studio  \n",
       "0            0.0          0.0  \n",
       "1            0.0          0.0  \n",
       "2            0.0          0.0  \n",
       "3            0.0          0.0  \n",
       "4            0.0          0.0  \n",
       "\n",
       "[5 rows x 268 columns]"
      ]
     },
     "execution_count": 39,
     "metadata": {},
     "output_type": "execute_result"
    }
   ],
   "source": [
    "Tor_grouped = Tor_onehot.groupby('Neighborhood').mean().reset_index()\n",
    "Tor_grouped.head()"
   ]
  },
  {
   "cell_type": "markdown",
   "metadata": {},
   "source": [
    "We can now compute the **5 most common venues** for each neighborhood, which we will use to cluster the neighborhoods"
   ]
  },
  {
   "cell_type": "code",
   "execution_count": 40,
   "metadata": {},
   "outputs": [],
   "source": [
    "#Function to sort the venues in descending order.\n",
    "def return_most_common_venues(row, num_top_venues):\n",
    "    row_categories = row.iloc[1:]\n",
    "    row_categories_sorted = row_categories.sort_values(ascending=False)\n",
    "    \n",
    "    return row_categories_sorted.index.values[0:num_top_venues]\n",
    "\n",
    "num_top_venues = 5\n",
    "\n",
    "indicators = ['st', 'nd', 'rd']\n",
    "\n",
    "# create columns according to number of top venues\n",
    "columns = ['Neighborhood']\n",
    "for ind in np.arange(num_top_venues):\n",
    "    try:\n",
    "        columns.append('{}{} Most Common Venue'.format(ind+1, indicators[ind]))\n",
    "    except:\n",
    "        columns.append('{}th Most Common Venue'.format(ind+1))\n",
    "\n",
    "# create a new dataframe\n",
    "Tor_neigh_venues_sorted = pd.DataFrame(columns=columns)\n",
    "Tor_neigh_venues_sorted['Neighborhood'] = Tor_grouped['Neighborhood']\n",
    "\n",
    "for ind in np.arange(Tor_grouped.shape[0]):\n",
    "    Tor_neigh_venues_sorted.iloc[ind, 1:] = return_most_common_venues(Tor_grouped.iloc[ind, :], num_top_venues)"
   ]
  },
  {
   "cell_type": "markdown",
   "metadata": {},
   "source": [
    "Display the first 5 rows of the **top 5 most common venues** for each neighborhood"
   ]
  },
  {
   "cell_type": "code",
   "execution_count": 41,
   "metadata": {},
   "outputs": [
    {
     "data": {
      "text/html": [
       "<div>\n",
       "<style scoped>\n",
       "    .dataframe tbody tr th:only-of-type {\n",
       "        vertical-align: middle;\n",
       "    }\n",
       "\n",
       "    .dataframe tbody tr th {\n",
       "        vertical-align: top;\n",
       "    }\n",
       "\n",
       "    .dataframe thead th {\n",
       "        text-align: right;\n",
       "    }\n",
       "</style>\n",
       "<table border=\"1\" class=\"dataframe\">\n",
       "  <thead>\n",
       "    <tr style=\"text-align: right;\">\n",
       "      <th></th>\n",
       "      <th>Neighborhood</th>\n",
       "      <th>1st Most Common Venue</th>\n",
       "      <th>2nd Most Common Venue</th>\n",
       "      <th>3rd Most Common Venue</th>\n",
       "      <th>4th Most Common Venue</th>\n",
       "      <th>5th Most Common Venue</th>\n",
       "    </tr>\n",
       "  </thead>\n",
       "  <tbody>\n",
       "    <tr>\n",
       "      <th>0</th>\n",
       "      <td>Agincourt</td>\n",
       "      <td>Latin American Restaurant</td>\n",
       "      <td>Skating Rink</td>\n",
       "      <td>Breakfast Spot</td>\n",
       "      <td>Lounge</td>\n",
       "      <td>Eastern European Restaurant</td>\n",
       "    </tr>\n",
       "    <tr>\n",
       "      <th>1</th>\n",
       "      <td>Alderwood, Long Branch</td>\n",
       "      <td>Pizza Place</td>\n",
       "      <td>Dance Studio</td>\n",
       "      <td>Pharmacy</td>\n",
       "      <td>Sandwich Place</td>\n",
       "      <td>Pub</td>\n",
       "    </tr>\n",
       "    <tr>\n",
       "      <th>2</th>\n",
       "      <td>Bathurst Manor, Wilson Heights, Downsview North</td>\n",
       "      <td>Bank</td>\n",
       "      <td>Coffee Shop</td>\n",
       "      <td>Ice Cream Shop</td>\n",
       "      <td>Restaurant</td>\n",
       "      <td>Sushi Restaurant</td>\n",
       "    </tr>\n",
       "    <tr>\n",
       "      <th>3</th>\n",
       "      <td>Bayview Village</td>\n",
       "      <td>Café</td>\n",
       "      <td>Bank</td>\n",
       "      <td>Chinese Restaurant</td>\n",
       "      <td>Japanese Restaurant</td>\n",
       "      <td>Distribution Center</td>\n",
       "    </tr>\n",
       "    <tr>\n",
       "      <th>4</th>\n",
       "      <td>Bedford Park, Lawrence Manor East</td>\n",
       "      <td>Restaurant</td>\n",
       "      <td>Sandwich Place</td>\n",
       "      <td>Italian Restaurant</td>\n",
       "      <td>Pizza Place</td>\n",
       "      <td>Coffee Shop</td>\n",
       "    </tr>\n",
       "  </tbody>\n",
       "</table>\n",
       "</div>"
      ],
      "text/plain": [
       "                                      Neighborhood      1st Most Common Venue  \\\n",
       "0                                        Agincourt  Latin American Restaurant   \n",
       "1                           Alderwood, Long Branch                Pizza Place   \n",
       "2  Bathurst Manor, Wilson Heights, Downsview North                       Bank   \n",
       "3                                  Bayview Village                       Café   \n",
       "4                Bedford Park, Lawrence Manor East                 Restaurant   \n",
       "\n",
       "  2nd Most Common Venue 3rd Most Common Venue 4th Most Common Venue  \\\n",
       "0          Skating Rink        Breakfast Spot                Lounge   \n",
       "1          Dance Studio              Pharmacy        Sandwich Place   \n",
       "2           Coffee Shop        Ice Cream Shop            Restaurant   \n",
       "3                  Bank    Chinese Restaurant   Japanese Restaurant   \n",
       "4        Sandwich Place    Italian Restaurant           Pizza Place   \n",
       "\n",
       "         5th Most Common Venue  \n",
       "0  Eastern European Restaurant  \n",
       "1                          Pub  \n",
       "2             Sushi Restaurant  \n",
       "3          Distribution Center  \n",
       "4                  Coffee Shop  "
      ]
     },
     "execution_count": 41,
     "metadata": {},
     "output_type": "execute_result"
    }
   ],
   "source": [
    "Tor_neigh_venues_sorted.head()"
   ]
  },
  {
   "cell_type": "markdown",
   "metadata": {},
   "source": [
    "## Cluster Neighborhoods <a name=\"cluster\"></a>"
   ]
  },
  {
   "cell_type": "markdown",
   "metadata": {},
   "source": [
    "Similar venues in a given neighborhood will be clustered together, using the k-means clustering algorithm. The Folium library will be used to visualize the neighborhoods in Toronto and their emerging clusters. Based on this clustering, one can easily determine what type of neighborhoods to go to for given a venue of interest."
   ]
  },
  {
   "cell_type": "markdown",
   "metadata": {},
   "source": [
    "#### Find optimal k value"
   ]
  },
  {
   "cell_type": "markdown",
   "metadata": {},
   "source": [
    "First, we build the clustering model and calculate the values of the **Distortion** and **Inertia**, for k between 1 to 10. "
   ]
  },
  {
   "cell_type": "code",
   "execution_count": 42,
   "metadata": {},
   "outputs": [],
   "source": [
    "#Import necessary library\n",
    "from sklearn.cluster import KMeans\n",
    "from sklearn import metrics \n",
    "from scipy.spatial.distance import cdist\n",
    "\n",
    "#Initiate values\n",
    "distortions = [] \n",
    "inertias = [] \n",
    "mapping1 = {} \n",
    "mapping2 = {} \n",
    "K = range(1,10) \n",
    "Tor_grouped_clustering = Tor_grouped.drop('Neighborhood', 1)\n",
    "\n",
    "#Fit the model for k between 1 and 10\n",
    "for k in K: \n",
    "    #Building and fitting the model \n",
    "    kmeanModel = KMeans(n_clusters=k, random_state=0).fit(Tor_grouped_clustering)\n",
    "    kmeanModel.fit(Tor_grouped_clustering)     \n",
    "      \n",
    "    distortions.append(sum(np.min(cdist(Tor_grouped_clustering, kmeanModel.cluster_centers_, \n",
    "                      'euclidean'),axis=1)) / Tor_grouped_clustering.shape[0]) \n",
    "    inertias.append(kmeanModel.inertia_) \n",
    "  \n",
    "    mapping1[k] = sum(np.min(cdist(Tor_grouped_clustering, kmeanModel.cluster_centers_, \n",
    "                 'euclidean'),axis=1)) / Tor_grouped_clustering.shape[0] \n",
    "    mapping2[k] = kmeanModel.inertia_ "
   ]
  },
  {
   "cell_type": "markdown",
   "metadata": {},
   "source": [
    "We can then using the different values of **Inertia** and the **elbow method** to determine the optimal k value"
   ]
  },
  {
   "cell_type": "code",
   "execution_count": 43,
   "metadata": {},
   "outputs": [
    {
     "data": {
      "image/png": "[encoded data removed]",
      "text/plain": [
       "<Figure size 432x288 with 1 Axes>"
      ]
     },
     "metadata": {
      "needs_background": "light"
     },
     "output_type": "display_data"
    }
   ],
   "source": [
    "#Import necessary library\n",
    "import matplotlib.pyplot as plt\n",
    "%matplotlib inline\n",
    "\n",
    "plt.plot(K, inertias, 'bx-') \n",
    "plt.xlabel('Values of k') \n",
    "plt.ylabel('Inertia') \n",
    "plt.title('The Elbow Method using Inertia') \n",
    "plt.show() "
   ]
  },
  {
   "cell_type": "markdown",
   "metadata": {},
   "source": [
    "It appears that a slight elbow occurs at k = 7; we will then use this value moving forward"
   ]
  },
  {
   "cell_type": "markdown",
   "metadata": {},
   "source": [
    "#### Generate clusters"
   ]
  },
  {
   "cell_type": "markdown",
   "metadata": {},
   "source": [
    "We then use the **k-means algorithm** to cluster the neighborhood into **7 clusters**."
   ]
  },
  {
   "cell_type": "code",
   "execution_count": 44,
   "metadata": {},
   "outputs": [
    {
     "data": {
      "text/plain": [
       "array([0, 0, 0, 0, 0, 0, 0, 0, 0, 0, 4, 0, 0, 0, 0, 0, 0, 0, 0, 0, 0, 0,\n",
       "       0, 0, 0, 0, 4, 0, 0, 0, 0, 0, 0, 0, 0, 0, 0, 0, 3, 2, 0, 0, 0, 0,\n",
       "       0, 0, 0, 0, 0, 5, 4, 0, 6, 0, 0, 0, 0, 0, 2, 0, 0, 4, 0, 0, 0, 4,\n",
       "       0, 0, 0, 0, 6, 0, 0, 0, 0, 0, 0, 0, 0, 0, 0, 0, 0, 0, 0, 0, 1, 0,\n",
       "       4, 0, 0, 0, 0, 4], dtype=int32)"
      ]
     },
     "execution_count": 44,
     "metadata": {},
     "output_type": "execute_result"
    }
   ],
   "source": [
    "#Set number of clusters\n",
    "kclusters = 7\n",
    "\n",
    "#Run k-means clustering\n",
    "kmeans = KMeans(n_clusters=kclusters, random_state=0).fit(Tor_grouped_clustering)\n",
    "\n",
    "#Check cluster labels generated for each row in the dataframe\n",
    "kmeans.labels_[0:] "
   ]
  },
  {
   "cell_type": "markdown",
   "metadata": {},
   "source": [
    "A large number of neighborhoods are part of cluster 0; this means that the data might need to be processed differently, but let's plot it to visualize it."
   ]
  },
  {
   "cell_type": "markdown",
   "metadata": {},
   "source": [
    "#### Visualize clusters"
   ]
  },
  {
   "cell_type": "markdown",
   "metadata": {},
   "source": [
    "First, we create a Dataframe containing the clusters that were just created"
   ]
  },
  {
   "cell_type": "code",
   "execution_count": 45,
   "metadata": {},
   "outputs": [
    {
     "data": {
      "text/html": [
       "<div>\n",
       "<style scoped>\n",
       "    .dataframe tbody tr th:only-of-type {\n",
       "        vertical-align: middle;\n",
       "    }\n",
       "\n",
       "    .dataframe tbody tr th {\n",
       "        vertical-align: top;\n",
       "    }\n",
       "\n",
       "    .dataframe thead th {\n",
       "        text-align: right;\n",
       "    }\n",
       "</style>\n",
       "<table border=\"1\" class=\"dataframe\">\n",
       "  <thead>\n",
       "    <tr style=\"text-align: right;\">\n",
       "      <th></th>\n",
       "      <th>Postal Code</th>\n",
       "      <th>Borough</th>\n",
       "      <th>Neighborhood</th>\n",
       "      <th>Latitude</th>\n",
       "      <th>Longitude</th>\n",
       "      <th>Cluster Labels</th>\n",
       "      <th>1st Most Common Venue</th>\n",
       "      <th>2nd Most Common Venue</th>\n",
       "      <th>3rd Most Common Venue</th>\n",
       "      <th>4th Most Common Venue</th>\n",
       "      <th>5th Most Common Venue</th>\n",
       "    </tr>\n",
       "  </thead>\n",
       "  <tbody>\n",
       "    <tr>\n",
       "      <th>0</th>\n",
       "      <td>M3A</td>\n",
       "      <td>North York</td>\n",
       "      <td>Parkwoods</td>\n",
       "      <td>43.753259</td>\n",
       "      <td>-79.329656</td>\n",
       "      <td>4.0</td>\n",
       "      <td>Park</td>\n",
       "      <td>Food &amp; Drink Shop</td>\n",
       "      <td>Falafel Restaurant</td>\n",
       "      <td>Event Space</td>\n",
       "      <td>Ethiopian Restaurant</td>\n",
       "    </tr>\n",
       "    <tr>\n",
       "      <th>1</th>\n",
       "      <td>M4A</td>\n",
       "      <td>North York</td>\n",
       "      <td>Victoria Village</td>\n",
       "      <td>43.725882</td>\n",
       "      <td>-79.315572</td>\n",
       "      <td>0.0</td>\n",
       "      <td>Hockey Arena</td>\n",
       "      <td>Intersection</td>\n",
       "      <td>Pizza Place</td>\n",
       "      <td>Coffee Shop</td>\n",
       "      <td>Portuguese Restaurant</td>\n",
       "    </tr>\n",
       "    <tr>\n",
       "      <th>2</th>\n",
       "      <td>M5A</td>\n",
       "      <td>Downtown Toronto</td>\n",
       "      <td>Regent Park, Harbourfront</td>\n",
       "      <td>43.654260</td>\n",
       "      <td>-79.360636</td>\n",
       "      <td>0.0</td>\n",
       "      <td>Coffee Shop</td>\n",
       "      <td>Pub</td>\n",
       "      <td>Bakery</td>\n",
       "      <td>Park</td>\n",
       "      <td>Mexican Restaurant</td>\n",
       "    </tr>\n",
       "    <tr>\n",
       "      <th>3</th>\n",
       "      <td>M6A</td>\n",
       "      <td>North York</td>\n",
       "      <td>Lawrence Manor, Lawrence Heights</td>\n",
       "      <td>43.718518</td>\n",
       "      <td>-79.464763</td>\n",
       "      <td>0.0</td>\n",
       "      <td>Furniture / Home Store</td>\n",
       "      <td>Accessories Store</td>\n",
       "      <td>Clothing Store</td>\n",
       "      <td>Coffee Shop</td>\n",
       "      <td>Event Space</td>\n",
       "    </tr>\n",
       "    <tr>\n",
       "      <th>4</th>\n",
       "      <td>M7A</td>\n",
       "      <td>Downtown Toronto</td>\n",
       "      <td>Queen's Park, Ontario Provincial Government</td>\n",
       "      <td>43.662301</td>\n",
       "      <td>-79.389494</td>\n",
       "      <td>0.0</td>\n",
       "      <td>Coffee Shop</td>\n",
       "      <td>Yoga Studio</td>\n",
       "      <td>Restaurant</td>\n",
       "      <td>Bar</td>\n",
       "      <td>Beer Bar</td>\n",
       "    </tr>\n",
       "  </tbody>\n",
       "</table>\n",
       "</div>"
      ],
      "text/plain": [
       "  Postal Code           Borough                                 Neighborhood  \\\n",
       "0         M3A        North York                                    Parkwoods   \n",
       "1         M4A        North York                             Victoria Village   \n",
       "2         M5A  Downtown Toronto                    Regent Park, Harbourfront   \n",
       "3         M6A        North York             Lawrence Manor, Lawrence Heights   \n",
       "4         M7A  Downtown Toronto  Queen's Park, Ontario Provincial Government   \n",
       "\n",
       "    Latitude  Longitude  Cluster Labels   1st Most Common Venue  \\\n",
       "0  43.753259 -79.329656             4.0                    Park   \n",
       "1  43.725882 -79.315572             0.0            Hockey Arena   \n",
       "2  43.654260 -79.360636             0.0             Coffee Shop   \n",
       "3  43.718518 -79.464763             0.0  Furniture / Home Store   \n",
       "4  43.662301 -79.389494             0.0             Coffee Shop   \n",
       "\n",
       "  2nd Most Common Venue 3rd Most Common Venue 4th Most Common Venue  \\\n",
       "0     Food & Drink Shop    Falafel Restaurant           Event Space   \n",
       "1          Intersection           Pizza Place           Coffee Shop   \n",
       "2                   Pub                Bakery                  Park   \n",
       "3     Accessories Store        Clothing Store           Coffee Shop   \n",
       "4           Yoga Studio            Restaurant                   Bar   \n",
       "\n",
       "   5th Most Common Venue  \n",
       "0   Ethiopian Restaurant  \n",
       "1  Portuguese Restaurant  \n",
       "2     Mexican Restaurant  \n",
       "3            Event Space  \n",
       "4               Beer Bar  "
      ]
     },
     "execution_count": 45,
     "metadata": {},
     "output_type": "execute_result"
    }
   ],
   "source": [
    "#Add clustering labels\n",
    "Tor_neigh_venues_sorted.insert(0, 'Cluster Labels', kmeans.labels_)\n",
    "\n",
    "Tor_merged = df_with_pcode\n",
    "\n",
    "#Merge toronto_grouped with toronto_data to add latitude/longitude for each neighborhood\n",
    "Tor_merged = Tor_merged.join(Tor_neigh_venues_sorted.set_index('Neighborhood'), on='Neighborhood').dropna()\n",
    "\n",
    "Tor_merged.head() # check the last columns!"
   ]
  },
  {
   "cell_type": "markdown",
   "metadata": {},
   "source": [
    "Then, we visualize the resulting clusters"
   ]
  },
  {
   "cell_type": "code",
   "execution_count": 52,
   "metadata": {
    "scrolled": false
   },
   "outputs": [
    {
     "data": {
      "text/html": [
       "<div style=\"width:100%;\"><div style=\"position:relative;width:100%;height:0;padding-bottom:60%;\"><iframe src=\"about:blank\" style=\"position:absolute;width:100%;height:100%;left:0;top:0;border:none !important;\" data-html=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 onload=\"this.contentDocument.open();this.contentDocument.write(atob(this.getAttribute('data-html')));this.contentDocument.close();\" allowfullscreen webkitallowfullscreen mozallowfullscreen></iframe></div></div>"
      ],
      "text/plain": [
       "<folium.folium.Map at 0x7f0ac38106d8>"
      ]
     },
     "execution_count": 52,
     "metadata": {},
     "output_type": "execute_result"
    }
   ],
   "source": [
    "#Import necessary library\n",
    "import matplotlib.cm as cm\n",
    "import matplotlib.colors as colors\n",
    "\n",
    "#Create map\n",
    "map_tor_clusters = folium.Map(width=750,height=500, location=[TOR_lat, TOR_long], zoom_start=10)\n",
    "\n",
    "#Set color scheme for the clusters\n",
    "clr_options = ['red', 'blue', 'green', 'gray', 'pink', 'black', 'darkblue', 'beige', 'purple', 'darkgreen', 'darkred']\n",
    "\n",
    "#Add markers to the map\n",
    "markers_colors = []\n",
    "for lat, lng, borough, neighborhood, cluster in zip(Tor_merged['Latitude'], Tor_merged['Longitude'], Tor_merged['Borough'], Tor_merged['Neighborhood'], Tor_merged['Cluster Labels']):\n",
    "    label0 = 'Cluster: {}, '.format(int(cluster))\n",
    "    label1 = 'Neighborhood(s): {}, Borough: {}'.format(neighborhood, borough)\n",
    "    label2 = label0 + label1\n",
    "    label = folium.Popup(label2, parse_html=True)\n",
    "    folium.Marker(\n",
    "        [lat, lng],\n",
    "        #radius=5,\n",
    "        popup=label,\n",
    "        icon=folium.Icon(color=clr_options[int(cluster)]),\n",
    "        parse_html=False).add_to(map_tor_clusters)  \n",
    "       \n",
    "map_tor_clusters"
   ]
  },
  {
   "cell_type": "markdown",
   "metadata": {},
   "source": [
    "As expected, a large number of neighborhoods fall within the first cluster (label 0). Let's further explore these clusters to see how they are \"built\""
   ]
  },
  {
   "cell_type": "markdown",
   "metadata": {},
   "source": [
    "#### Explore clusters"
   ]
  },
  {
   "cell_type": "markdown",
   "metadata": {},
   "source": [
    "Let's examine each cluster and determine the discriminating venue categories that distinguish each one."
   ]
  },
  {
   "cell_type": "markdown",
   "metadata": {},
   "source": [
    "First, create a new grouped 'One Hot Encoding' Dataframe were Neighborhoods are replaced by Cluster Labels "
   ]
  },
  {
   "cell_type": "code",
   "execution_count": 76,
   "metadata": {},
   "outputs": [
    {
     "data": {
      "text/html": [
       "<div>\n",
       "<style scoped>\n",
       "    .dataframe tbody tr th:only-of-type {\n",
       "        vertical-align: middle;\n",
       "    }\n",
       "\n",
       "    .dataframe tbody tr th {\n",
       "        vertical-align: top;\n",
       "    }\n",
       "\n",
       "    .dataframe thead th {\n",
       "        text-align: right;\n",
       "    }\n",
       "</style>\n",
       "<table border=\"1\" class=\"dataframe\">\n",
       "  <thead>\n",
       "    <tr style=\"text-align: right;\">\n",
       "      <th></th>\n",
       "      <th>Cluster Labels</th>\n",
       "      <th>Accessories Store</th>\n",
       "      <th>Afghan Restaurant</th>\n",
       "      <th>Airport</th>\n",
       "      <th>Airport Food Court</th>\n",
       "      <th>Airport Gate</th>\n",
       "      <th>Airport Lounge</th>\n",
       "      <th>Airport Service</th>\n",
       "      <th>Airport Terminal</th>\n",
       "      <th>American Restaurant</th>\n",
       "      <th>...</th>\n",
       "      <th>Turkish Restaurant</th>\n",
       "      <th>Vegetarian / Vegan Restaurant</th>\n",
       "      <th>Video Game Store</th>\n",
       "      <th>Video Store</th>\n",
       "      <th>Vietnamese Restaurant</th>\n",
       "      <th>Warehouse Store</th>\n",
       "      <th>Wine Bar</th>\n",
       "      <th>Wings Joint</th>\n",
       "      <th>Women's Store</th>\n",
       "      <th>Yoga Studio</th>\n",
       "    </tr>\n",
       "  </thead>\n",
       "  <tbody>\n",
       "    <tr>\n",
       "      <th>0</th>\n",
       "      <td>0.0</td>\n",
       "      <td>0.000879</td>\n",
       "      <td>0.000439</td>\n",
       "      <td>0.002197</td>\n",
       "      <td>0.000439</td>\n",
       "      <td>0.000439</td>\n",
       "      <td>0.000879</td>\n",
       "      <td>0.000879</td>\n",
       "      <td>0.000879</td>\n",
       "      <td>0.013181</td>\n",
       "      <td>...</td>\n",
       "      <td>0.000439</td>\n",
       "      <td>0.007469</td>\n",
       "      <td>0.001318</td>\n",
       "      <td>0.000439</td>\n",
       "      <td>0.005272</td>\n",
       "      <td>0.000439</td>\n",
       "      <td>0.004394</td>\n",
       "      <td>0.000439</td>\n",
       "      <td>0.001318</td>\n",
       "      <td>0.005712</td>\n",
       "    </tr>\n",
       "    <tr>\n",
       "      <th>1</th>\n",
       "      <td>1.0</td>\n",
       "      <td>0.000000</td>\n",
       "      <td>0.000000</td>\n",
       "      <td>0.000000</td>\n",
       "      <td>0.000000</td>\n",
       "      <td>0.000000</td>\n",
       "      <td>0.000000</td>\n",
       "      <td>0.000000</td>\n",
       "      <td>0.000000</td>\n",
       "      <td>0.000000</td>\n",
       "      <td>...</td>\n",
       "      <td>0.000000</td>\n",
       "      <td>0.000000</td>\n",
       "      <td>0.000000</td>\n",
       "      <td>0.000000</td>\n",
       "      <td>0.000000</td>\n",
       "      <td>0.000000</td>\n",
       "      <td>0.000000</td>\n",
       "      <td>0.000000</td>\n",
       "      <td>0.000000</td>\n",
       "      <td>0.000000</td>\n",
       "    </tr>\n",
       "    <tr>\n",
       "      <th>2</th>\n",
       "      <td>2.0</td>\n",
       "      <td>0.000000</td>\n",
       "      <td>0.000000</td>\n",
       "      <td>0.000000</td>\n",
       "      <td>0.000000</td>\n",
       "      <td>0.000000</td>\n",
       "      <td>0.000000</td>\n",
       "      <td>0.000000</td>\n",
       "      <td>0.000000</td>\n",
       "      <td>0.000000</td>\n",
       "      <td>...</td>\n",
       "      <td>0.000000</td>\n",
       "      <td>0.000000</td>\n",
       "      <td>0.000000</td>\n",
       "      <td>0.000000</td>\n",
       "      <td>0.000000</td>\n",
       "      <td>0.000000</td>\n",
       "      <td>0.000000</td>\n",
       "      <td>0.000000</td>\n",
       "      <td>0.000000</td>\n",
       "      <td>0.000000</td>\n",
       "    </tr>\n",
       "    <tr>\n",
       "      <th>3</th>\n",
       "      <td>3.0</td>\n",
       "      <td>0.000000</td>\n",
       "      <td>0.000000</td>\n",
       "      <td>0.000000</td>\n",
       "      <td>0.000000</td>\n",
       "      <td>0.000000</td>\n",
       "      <td>0.000000</td>\n",
       "      <td>0.000000</td>\n",
       "      <td>0.000000</td>\n",
       "      <td>0.000000</td>\n",
       "      <td>...</td>\n",
       "      <td>0.000000</td>\n",
       "      <td>0.000000</td>\n",
       "      <td>0.000000</td>\n",
       "      <td>0.000000</td>\n",
       "      <td>0.000000</td>\n",
       "      <td>0.000000</td>\n",
       "      <td>0.000000</td>\n",
       "      <td>0.000000</td>\n",
       "      <td>0.000000</td>\n",
       "      <td>0.000000</td>\n",
       "    </tr>\n",
       "    <tr>\n",
       "      <th>4</th>\n",
       "      <td>4.0</td>\n",
       "      <td>0.000000</td>\n",
       "      <td>0.000000</td>\n",
       "      <td>0.000000</td>\n",
       "      <td>0.000000</td>\n",
       "      <td>0.000000</td>\n",
       "      <td>0.000000</td>\n",
       "      <td>0.000000</td>\n",
       "      <td>0.000000</td>\n",
       "      <td>0.000000</td>\n",
       "      <td>...</td>\n",
       "      <td>0.000000</td>\n",
       "      <td>0.000000</td>\n",
       "      <td>0.000000</td>\n",
       "      <td>0.000000</td>\n",
       "      <td>0.000000</td>\n",
       "      <td>0.000000</td>\n",
       "      <td>0.000000</td>\n",
       "      <td>0.000000</td>\n",
       "      <td>0.040000</td>\n",
       "      <td>0.000000</td>\n",
       "    </tr>\n",
       "    <tr>\n",
       "      <th>5</th>\n",
       "      <td>5.0</td>\n",
       "      <td>0.000000</td>\n",
       "      <td>0.000000</td>\n",
       "      <td>0.000000</td>\n",
       "      <td>0.000000</td>\n",
       "      <td>0.000000</td>\n",
       "      <td>0.000000</td>\n",
       "      <td>0.000000</td>\n",
       "      <td>0.000000</td>\n",
       "      <td>0.000000</td>\n",
       "      <td>...</td>\n",
       "      <td>0.000000</td>\n",
       "      <td>0.000000</td>\n",
       "      <td>0.000000</td>\n",
       "      <td>0.000000</td>\n",
       "      <td>0.000000</td>\n",
       "      <td>0.000000</td>\n",
       "      <td>0.000000</td>\n",
       "      <td>0.000000</td>\n",
       "      <td>0.000000</td>\n",
       "      <td>0.000000</td>\n",
       "    </tr>\n",
       "    <tr>\n",
       "      <th>6</th>\n",
       "      <td>6.0</td>\n",
       "      <td>0.000000</td>\n",
       "      <td>0.000000</td>\n",
       "      <td>0.000000</td>\n",
       "      <td>0.000000</td>\n",
       "      <td>0.000000</td>\n",
       "      <td>0.000000</td>\n",
       "      <td>0.000000</td>\n",
       "      <td>0.000000</td>\n",
       "      <td>0.000000</td>\n",
       "      <td>...</td>\n",
       "      <td>0.000000</td>\n",
       "      <td>0.000000</td>\n",
       "      <td>0.000000</td>\n",
       "      <td>0.000000</td>\n",
       "      <td>0.000000</td>\n",
       "      <td>0.000000</td>\n",
       "      <td>0.000000</td>\n",
       "      <td>0.000000</td>\n",
       "      <td>0.000000</td>\n",
       "      <td>0.000000</td>\n",
       "    </tr>\n",
       "  </tbody>\n",
       "</table>\n",
       "<p>7 rows × 268 columns</p>\n",
       "</div>"
      ],
      "text/plain": [
       "   Cluster Labels  Accessories Store  Afghan Restaurant   Airport  \\\n",
       "0             0.0           0.000879           0.000439  0.002197   \n",
       "1             1.0           0.000000           0.000000  0.000000   \n",
       "2             2.0           0.000000           0.000000  0.000000   \n",
       "3             3.0           0.000000           0.000000  0.000000   \n",
       "4             4.0           0.000000           0.000000  0.000000   \n",
       "5             5.0           0.000000           0.000000  0.000000   \n",
       "6             6.0           0.000000           0.000000  0.000000   \n",
       "\n",
       "   Airport Food Court  Airport Gate  Airport Lounge  Airport Service  \\\n",
       "0            0.000439      0.000439        0.000879         0.000879   \n",
       "1            0.000000      0.000000        0.000000         0.000000   \n",
       "2            0.000000      0.000000        0.000000         0.000000   \n",
       "3            0.000000      0.000000        0.000000         0.000000   \n",
       "4            0.000000      0.000000        0.000000         0.000000   \n",
       "5            0.000000      0.000000        0.000000         0.000000   \n",
       "6            0.000000      0.000000        0.000000         0.000000   \n",
       "\n",
       "   Airport Terminal  American Restaurant  ...  Turkish Restaurant  \\\n",
       "0          0.000879             0.013181  ...            0.000439   \n",
       "1          0.000000             0.000000  ...            0.000000   \n",
       "2          0.000000             0.000000  ...            0.000000   \n",
       "3          0.000000             0.000000  ...            0.000000   \n",
       "4          0.000000             0.000000  ...            0.000000   \n",
       "5          0.000000             0.000000  ...            0.000000   \n",
       "6          0.000000             0.000000  ...            0.000000   \n",
       "\n",
       "   Vegetarian / Vegan Restaurant  Video Game Store  Video Store  \\\n",
       "0                       0.007469          0.001318     0.000439   \n",
       "1                       0.000000          0.000000     0.000000   \n",
       "2                       0.000000          0.000000     0.000000   \n",
       "3                       0.000000          0.000000     0.000000   \n",
       "4                       0.000000          0.000000     0.000000   \n",
       "5                       0.000000          0.000000     0.000000   \n",
       "6                       0.000000          0.000000     0.000000   \n",
       "\n",
       "   Vietnamese Restaurant  Warehouse Store  Wine Bar  Wings Joint  \\\n",
       "0               0.005272         0.000439  0.004394     0.000439   \n",
       "1               0.000000         0.000000  0.000000     0.000000   \n",
       "2               0.000000         0.000000  0.000000     0.000000   \n",
       "3               0.000000         0.000000  0.000000     0.000000   \n",
       "4               0.000000         0.000000  0.000000     0.000000   \n",
       "5               0.000000         0.000000  0.000000     0.000000   \n",
       "6               0.000000         0.000000  0.000000     0.000000   \n",
       "\n",
       "   Women's Store  Yoga Studio  \n",
       "0       0.001318     0.005712  \n",
       "1       0.000000     0.000000  \n",
       "2       0.000000     0.000000  \n",
       "3       0.000000     0.000000  \n",
       "4       0.040000     0.000000  \n",
       "5       0.000000     0.000000  \n",
       "6       0.000000     0.000000  \n",
       "\n",
       "[7 rows x 268 columns]"
      ]
     },
     "execution_count": 76,
     "metadata": {},
     "output_type": "execute_result"
    }
   ],
   "source": [
    "#Create new Dataframe\n",
    "Tor_cluster_vs_neigh = pd.DataFrame(columns=['Neighborhood', 'Cluster Labels'])\n",
    "Tor_cluster_vs_neigh['Neighborhood']=Tor_merged['Neighborhood']\n",
    "Tor_cluster_vs_neigh['Cluster Labels']=Tor_merged['Cluster Labels']\n",
    "\n",
    "#Merge Dataframes\n",
    "Tor_onehot_with_clusters = pd.merge(Tor_onehot, Tor_cluster_vs_neigh, how='inner', on='Neighborhood', sort=False)\n",
    "Tor_onehot_with_clusters.head()\n",
    "\n",
    "#Move 'Cluster Labels' column to the first column\n",
    "new_cluster = Tor_onehot_with_clusters['Cluster Labels']\n",
    "Tor_onehot_with_clusters.drop(labels=['Cluster Labels'], axis=1,inplace = True)\n",
    "Tor_onehot_with_clusters.insert(0, 'Cluster Labels', new_cluster)\n",
    "\n",
    "#Drop 'Neighborhood'\n",
    "Tor_onehot_with_clusters = Tor_onehot_with_clusters.drop('Neighborhood', 1)\n",
    "Tor_onehot_with_clusters.head()\n",
    "\n",
    "#Group by 'Cluster Label'\n",
    "Tor_grouped_with_clusters = Tor_onehot_with_clusters.groupby('Cluster Labels').mean().reset_index()\n",
    "Tor_grouped_with_clusters.head(7)"
   ]
  },
  {
   "cell_type": "markdown",
   "metadata": {},
   "source": [
    "We then now compute the **5 most common venues** for each cluster"
   ]
  },
  {
   "cell_type": "code",
   "execution_count": 79,
   "metadata": {},
   "outputs": [
    {
     "data": {
      "text/html": [
       "<div>\n",
       "<style scoped>\n",
       "    .dataframe tbody tr th:only-of-type {\n",
       "        vertical-align: middle;\n",
       "    }\n",
       "\n",
       "    .dataframe tbody tr th {\n",
       "        vertical-align: top;\n",
       "    }\n",
       "\n",
       "    .dataframe thead th {\n",
       "        text-align: right;\n",
       "    }\n",
       "</style>\n",
       "<table border=\"1\" class=\"dataframe\">\n",
       "  <thead>\n",
       "    <tr style=\"text-align: right;\">\n",
       "      <th></th>\n",
       "      <th>Cluster Labels</th>\n",
       "      <th>1st Most Common Venue</th>\n",
       "      <th>2nd Most Common Venue</th>\n",
       "      <th>3rd Most Common Venue</th>\n",
       "      <th>4th Most Common Venue</th>\n",
       "      <th>5th Most Common Venue</th>\n",
       "    </tr>\n",
       "  </thead>\n",
       "  <tbody>\n",
       "    <tr>\n",
       "      <th>0</th>\n",
       "      <td>0.0</td>\n",
       "      <td>Coffee Shop</td>\n",
       "      <td>Café</td>\n",
       "      <td>Restaurant</td>\n",
       "      <td>Pizza Place</td>\n",
       "      <td>Park</td>\n",
       "    </tr>\n",
       "    <tr>\n",
       "      <th>1</th>\n",
       "      <td>1.0</td>\n",
       "      <td>Golf Course</td>\n",
       "      <td>Yoga Studio</td>\n",
       "      <td>Dumpling Restaurant</td>\n",
       "      <td>Discount Store</td>\n",
       "      <td>Distribution Center</td>\n",
       "    </tr>\n",
       "    <tr>\n",
       "      <th>2</th>\n",
       "      <td>2.0</td>\n",
       "      <td>Baseball Field</td>\n",
       "      <td>Construction &amp; Landscaping</td>\n",
       "      <td>Yoga Studio</td>\n",
       "      <td>Eastern European Restaurant</td>\n",
       "      <td>Dog Run</td>\n",
       "    </tr>\n",
       "    <tr>\n",
       "      <th>3</th>\n",
       "      <td>3.0</td>\n",
       "      <td>Empanada Restaurant</td>\n",
       "      <td>Yoga Studio</td>\n",
       "      <td>Diner</td>\n",
       "      <td>Farmers Market</td>\n",
       "      <td>Falafel Restaurant</td>\n",
       "    </tr>\n",
       "    <tr>\n",
       "      <th>4</th>\n",
       "      <td>4.0</td>\n",
       "      <td>Park</td>\n",
       "      <td>Convenience Store</td>\n",
       "      <td>Playground</td>\n",
       "      <td>Coffee Shop</td>\n",
       "      <td>Food &amp; Drink Shop</td>\n",
       "    </tr>\n",
       "    <tr>\n",
       "      <th>5</th>\n",
       "      <td>5.0</td>\n",
       "      <td>Fast Food Restaurant</td>\n",
       "      <td>Diner</td>\n",
       "      <td>Farmers Market</td>\n",
       "      <td>Falafel Restaurant</td>\n",
       "      <td>Event Space</td>\n",
       "    </tr>\n",
       "    <tr>\n",
       "      <th>6</th>\n",
       "      <td>6.0</td>\n",
       "      <td>Playground</td>\n",
       "      <td>Summer Camp</td>\n",
       "      <td>Yoga Studio</td>\n",
       "      <td>Discount Store</td>\n",
       "      <td>Distribution Center</td>\n",
       "    </tr>\n",
       "  </tbody>\n",
       "</table>\n",
       "</div>"
      ],
      "text/plain": [
       "   Cluster Labels 1st Most Common Venue       2nd Most Common Venue  \\\n",
       "0             0.0           Coffee Shop                        Café   \n",
       "1             1.0           Golf Course                 Yoga Studio   \n",
       "2             2.0        Baseball Field  Construction & Landscaping   \n",
       "3             3.0   Empanada Restaurant                 Yoga Studio   \n",
       "4             4.0                  Park           Convenience Store   \n",
       "5             5.0  Fast Food Restaurant                       Diner   \n",
       "6             6.0            Playground                 Summer Camp   \n",
       "\n",
       "  3rd Most Common Venue        4th Most Common Venue 5th Most Common Venue  \n",
       "0            Restaurant                  Pizza Place                  Park  \n",
       "1   Dumpling Restaurant               Discount Store   Distribution Center  \n",
       "2           Yoga Studio  Eastern European Restaurant               Dog Run  \n",
       "3                 Diner               Farmers Market    Falafel Restaurant  \n",
       "4            Playground                  Coffee Shop     Food & Drink Shop  \n",
       "5        Farmers Market           Falafel Restaurant           Event Space  \n",
       "6           Yoga Studio               Discount Store   Distribution Center  "
      ]
     },
     "execution_count": 79,
     "metadata": {},
     "output_type": "execute_result"
    }
   ],
   "source": [
    "num_top_venues = 5\n",
    "\n",
    "indicators = ['st', 'nd', 'rd']\n",
    "\n",
    "# create columns according to number of top venues\n",
    "columns = ['Cluster Labels']\n",
    "for ind in np.arange(num_top_venues):\n",
    "    try:\n",
    "        columns.append('{}{} Most Common Venue'.format(ind+1, indicators[ind]))\n",
    "    except:\n",
    "        columns.append('{}th Most Common Venue'.format(ind+1))\n",
    "\n",
    "# create a new dataframe\n",
    "Tor_cluster_venues_sorted = pd.DataFrame(columns=columns)\n",
    "Tor_cluster_venues_sorted['Cluster Labels'] = Tor_grouped_with_clusters['Cluster Labels']\n",
    "\n",
    "for ind in np.arange(Tor_grouped_with_clusters.shape[0]):\n",
    "    Tor_cluster_venues_sorted.iloc[ind, 1:] = return_most_common_venues(Tor_grouped_with_clusters.iloc[ind, :], num_top_venues)\n",
    "    \n",
    "Tor_cluster_venues_sorted.head(7)"
   ]
  },
  {
   "cell_type": "markdown",
   "metadata": {},
   "source": [
    "It is indeed difficult to distinguish between clusters. Some work is required for valuable insights to be gained from studying this dataset."
   ]
  },
  {
   "cell_type": "markdown",
   "metadata": {},
   "source": [
    "## Conclusions <a name=\"conclusion\"></a>"
   ]
  },
  {
   "cell_type": "markdown",
   "metadata": {},
   "source": [
    "#### In this workbook, we succesfully:\n",
    "- Compiled and explored data on neighborhoods in Toronto\n",
    "- Used the Foursquare API to obtain data on venues in each neighborhood\n",
    "- Sorted the neighborhoods and clustered them using the k-means algorithm\n",
    "- Displayed the cluster and neighborhoods on an interactive map"
   ]
  },
  {
   "cell_type": "markdown",
   "metadata": {},
   "source": [
    "*While this insights gained were limited, this was a good practice exercise before completing the final assignement*"
   ]
  }
 ],
 "metadata": {
  "kernelspec": {
   "display_name": "Python 3.6",
   "language": "python",
   "name": "python3"
  },
  "language_info": {
   "codemirror_mode": {
    "name": "ipython",
    "version": 3
   },
   "file_extension": ".py",
   "mimetype": "text/x-python",
   "name": "python",
   "nbconvert_exporter": "python",
   "pygments_lexer": "ipython3",
   "version": "3.6.9"
  }
 },
 "nbformat": 4,
 "nbformat_minor": 1
}
